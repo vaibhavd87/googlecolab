{
  "nbformat": 4,
  "nbformat_minor": 0,
  "metadata": {
    "colab": {
      "provenance": [],
      "name": "marvolus setup.ipynb",
      "authorship_tag": "ABX9TyPPkbIc6E/gGiwShPCnqH+q",
      "include_colab_link": true
    },
    "kernelspec": {
      "name": "python3",
      "display_name": "Python 3"
    },
    "language_info": {
      "name": "python"
    }
  },
  "cells": [
    {
      "cell_type": "markdown",
      "metadata": {
        "id": "view-in-github",
        "colab_type": "text"
      },
      "source": [
        "<a href=\"https://colab.research.google.com/github/vaibhavd87/googlecolab/blob/main/marvolus_setup.ipynb\" target=\"_parent\"><img src=\"https://colab.research.google.com/assets/colab-badge.svg\" alt=\"Open In Colab\"/></a>"
      ]
    },
    {
      "cell_type": "code",
      "source": [
        "def fun():\n",
        "  print(\"Hello From Function\")\n",
        "fun()"
      ],
      "metadata": {
        "colab": {
          "base_uri": "https://localhost:8080/"
        },
        "id": "ZEthe3BiJMR8",
        "outputId": "c8df5815-4a86-4459-9c9c-be5917a3417b"
      },
      "execution_count": 22,
      "outputs": [
        {
          "output_type": "stream",
          "name": "stdout",
          "text": [
            "Hello From Function\n"
          ]
        }
      ]
    },
    {
      "cell_type": "code",
      "source": [
        "\n",
        "\n",
        "def even_odd(val):\n",
        "    ans =val % 2\n",
        "    if ans == 0:\n",
        "        print(\"Even number\")\n",
        "    else:\n",
        "        print(\"Odd number\")\n",
        "\n",
        "print(\"Enter number\")\n",
        "val=input();\n",
        "even_odd(int(val))"
      ],
      "metadata": {
        "id": "HWuMiXZKJlx3",
        "outputId": "ee57a7af-901c-4e14-ba81-133649ff34ef",
        "colab": {
          "base_uri": "https://localhost:8080/"
        }
      },
      "execution_count": 23,
      "outputs": [
        {
          "output_type": "stream",
          "name": "stdout",
          "text": [
            "Enter number\n",
            "10\n",
            "Even number\n"
          ]
        }
      ]
    }
  ]
}